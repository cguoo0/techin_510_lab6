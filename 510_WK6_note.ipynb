{
  "cells": [
    {
      "cell_type": "code",
      "execution_count": 7,
      "metadata": {
        "colab": {
          "base_uri": "https://localhost:8080/"
        },
        "id": "hpWGmrwh7IB-",
        "outputId": "098b0f18-a5be-4fc6-df2c-4d19f05e5ad5"
      },
      "outputs": [
        {
          "name": "stdout",
          "output_type": "stream",
          "text": [
            "··········\n"
          ]
        }
      ],
      "source": [
        "import getpass\n",
        "\n",
        "import google.generativeai as genai\n",
        "\n",
        "GOOGLE_API_KEY = getpass.getpass()\n",
        "genai.configure(api_key=GOOGLE_API_KEY)"
      ]
    },
    {
      "cell_type": "code",
      "execution_count": 13,
      "metadata": {
        "id": "Y-Z0VPT4O6JF"
      },
      "outputs": [],
      "source": [
        "model = genai.GenerativeModel('gemini-pro')"
      ]
    },
    {
      "cell_type": "code",
      "execution_count": 9,
      "metadata": {
        "id": "C-ITYoy9O8Ib"
      },
      "outputs": [],
      "source": [
        "def gen_content(prompt):\n",
        "    response = model.generate_content(prompt)\n",
        "    print(response.text)"
      ]
    },
    {
      "cell_type": "code",
      "execution_count": 10,
      "metadata": {
        "colab": {
          "base_uri": "https://localhost:8080/",
          "height": 392
        },
        "id": "WhhachnGS-R3",
        "outputId": "63c93779-df76-4a49-d55c-18384dc7d280"
      },
      "outputs": [
        {
          "output_type": "stream",
          "name": "stdout",
          "text": [
            "**Spring's Embrace**\n",
            "\n",
            "As winter's grip begins to wane,\n",
            "And nature's heart begins to reign,\n",
            "Spring whispers softly on the breeze,\n",
            "A symphony of life and ease.\n",
            "\n",
            "The trees don cloaks of emerald green,\n",
            "A vibrant canvas to be seen,\n",
            "The earth revives, a verdant hue,\n",
            "As flowers bloom in every hue.\n",
            "\n",
            "Birdsong fills the air with cheer,\n",
            "A chorus of hope, banishing fear,\n",
            "Nature awakens with a start,\n",
            "As life bursts forth with joy and art.\n",
            "\n",
            "Through open windows, sunlight streams,\n",
            "Dispelling darkness, fulfilling dreams,\n",
            "For Spring, with gentle touch divine,\n",
            "Rejuvenates the soul and mind.\n"
          ]
        }
      ],
      "source": [
        "\n",
        "prompt = \"Can you write a short poem about Spring\"\n",
        "\n",
        "gen_content(prompt)"
      ]
    },
    {
      "cell_type": "code",
      "source": [
        "\n",
        "prompt = \"You are a expert in driving, and I am a beginner. Can you teach me how to start the engine of car\"\n",
        "\n",
        "gen_content(prompt)"
      ],
      "metadata": {
        "colab": {
          "base_uri": "https://localhost:8080/",
          "height": 981
        },
        "id": "BrQlIbEIZgE8",
        "outputId": "b9c4a5b8-ccc0-4baa-a350-76d19bb6cf63"
      },
      "execution_count": 11,
      "outputs": [
        {
          "output_type": "stream",
          "name": "stdout",
          "text": [
            "**Step-by-Step Guide to Starting a Car Engine for Beginners**\n",
            "\n",
            "**1. Safety First**\n",
            "\n",
            "* Park the car on a flat surface and engage the parking brake.\n",
            "* Adjust the seat and mirrors to ensure a comfortable and optimal driving position.\n",
            "\n",
            "**2. Insert the Key**\n",
            "\n",
            "* Locate the keyhole on the dashboard or steering column.\n",
            "* Insert the key and turn it to the \"ACC\" position.\n",
            "\n",
            "**3. Check the Instrument Panel**\n",
            "\n",
            "* Check if any warning lights are illuminated. If any lights are on, consult the car's manual.\n",
            "\n",
            "**4. Depress the Clutch (Manual Transmission Only)**\n",
            "\n",
            "* For manual transmission cars, fully depress the clutch pedal. This step disengages the transmission from the engine.\n",
            "\n",
            "**5. Turn the Key to \"ON\"**\n",
            "\n",
            "* Turn the key to the \"ON\" position. This powers on the electrical systems, including the ignition and fuel pump.\n",
            "\n",
            "**6. Listen for the Fuel Pump**\n",
            "\n",
            "* You should hear a faint humming sound as the fuel pump primes the fuel system.\n",
            "\n",
            "**7. Start the Engine**\n",
            "\n",
            "* Turn the key further to the \"START\" position. Hold it there until the engine starts.\n",
            "* Release the key as soon as the engine starts.\n",
            "\n",
            "**8. Check the Engine RPM**\n",
            "\n",
            "* The engine should idle at a speed specified in the car's manual. Typically, it will be around 750-1000 RPM.\n",
            "\n",
            "**9. Release the Clutch Slowly (Manual Transmission Only)**\n",
            "\n",
            "* With the engine running, slowly release the clutch pedal while gently applying pressure to the accelerator.\n",
            "* The car will start to move.\n",
            "\n",
            "**10. Adjust the Engine Idle (If Needed)**\n",
            "\n",
            "* If the engine idle is too high or too low, you can adjust it using the idle speed control knob on the dashboard.\n",
            "\n",
            "**Troubleshooting Tips**\n",
            "\n",
            "* **Engine won't start:** Check the battery, starter, spark plugs, and fuel system.\n",
            "* **Engine stalls after starting:** Make sure you are pressing the clutch fully (manual transmission) or putting the car in Park or Neutral (automatic transmission).\n",
            "* **Engine runs rough:** Check the spark plugs, fuel filter, and air filter.\n",
            "* **Engine overheats:** Check the coolant level and thermostat.\n",
            "\n",
            "**Remember:** Always consult your car's manual for specific instructions and precautions.\n"
          ]
        }
      ]
    },
    {
      "cell_type": "code",
      "source": [
        "prompt = \"\"\"\n",
        "I am interviewee in design position. Please read the following resume and job description. Give me suggestion on how to improve my resume\n",
        "\n",
        "<job description>\n",
        "Amazon\n",
        "UX designer\n",
        "The candidate should.....\n",
        "\n",
        "</job description>\n",
        "\n",
        "<resume>\n",
        "Ian Chen\n",
        "UX designer\n",
        "</resume>\n",
        "\"\"\"\n",
        "\n",
        "gen_content(prompt)"
      ],
      "metadata": {
        "colab": {
          "base_uri": "https://localhost:8080/",
          "height": 591
        },
        "id": "jWmBtqSjQ9l1",
        "outputId": "b0b24fbb-a7c2-4d14-8458-58b9c22220f7"
      },
      "execution_count": 12,
      "outputs": [
        {
          "output_type": "stream",
          "name": "stdout",
          "text": [
            "**How to Improve Your Resume for a UX Designer Position at Amazon:**\n",
            "\n",
            "**1. Quantify and Highlight Impact:**\n",
            "\n",
            "* Include specific metrics and data points to demonstrate the impact of your UX designs on key performance indicators (KPIs), such as user engagement, conversion rates, and customer satisfaction.\n",
            "\n",
            "**2. Showcase Relevant Skills and Experience:**\n",
            "\n",
            "* Emphasize skills specifically applicable to the Amazon job description, such as experience with user research, information architecture, and rapid prototyping.\n",
            "* Highlight any projects or case studies that demonstrate your understanding of Amazon's customer-centric approach and design principles.\n",
            "\n",
            "**3. Use Industry-Specific Language:**\n",
            "\n",
            "* Incorporate industry-recognized terms and best practices to showcase your knowledge of the UX design field.\n",
            "* Use keywords from the job description to optimize your resume for applicant tracking systems (ATS).\n",
            "\n",
            "**4. Tailor Your Resume to the Position:**\n",
            "\n",
            "* Research Amazon's UX design culture and incorporate elements that align with their values and working style.\n",
            "* Highlight your ability to work effectively in a collaborative and iterative environment, as emphasized in the job description.\n",
            "\n",
            "**5. Seek Feedback and Proofread Carefully:**\n",
            "\n",
            "* Ask for feedback from a trusted friend, mentor, or career counselor to ensure your resume is clear, concise, and persuasive.\n",
            "* Proofread carefully to eliminate any errors in grammar, spelling, or formatting.\n",
            "\n",
            "**Additional Tips:**\n",
            "\n",
            "* Include a portfolio website or LinkedIn profile that showcases your UX design work and capabilities.\n",
            "* Consider obtaining industry certifications, such as the Certified UX Designer (CUXD) or the User Experience Management Professional (UXMP), to demonstrate your commitment to professional development.\n",
            "* Network with professionals in the UX design industry to learn about potential opportunities and gain insights into Amazon's hiring process.\n"
          ]
        }
      ]
    },
    {
      "cell_type": "code",
      "source": [
        "# provide reference text\n",
        "prompt = \"\"\"Use the provided articles delimited by triple quotes to answer questions. If the answer cannot be found in the articles, write \"I could not find an answer.\"\n",
        "\n",
        "Article: causes in global warming in earth\n",
        "\n",
        "Question: Where is the hottest city?\n",
        "\"\"\"\n",
        "gen_content(prompt)"
      ],
      "metadata": {
        "colab": {
          "base_uri": "https://localhost:8080/",
          "height": 35
        },
        "id": "IfJjqfYQSgb_",
        "outputId": "cf6c9b38-a0b3-4595-a43c-ea974a27607a"
      },
      "execution_count": 14,
      "outputs": [
        {
          "output_type": "stream",
          "name": "stdout",
          "text": [
            "I could not find an answer to this question in the provided article.\n"
          ]
        }
      ]
    }
  ],
  "metadata": {
    "colab": {
      "provenance": []
    },
    "kernelspec": {
      "display_name": "Python 3",
      "name": "python3"
    },
    "language_info": {
      "name": "python"
    }
  },
  "nbformat": 4,
  "nbformat_minor": 0
}